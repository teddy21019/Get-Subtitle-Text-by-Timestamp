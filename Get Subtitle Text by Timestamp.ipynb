{
 "cells": [
  {
   "cell_type": "markdown",
   "metadata": {},
   "source": [
    "# Get Subtitle Text by Timestamp"
   ]
  },
  {
   "cell_type": "markdown",
   "metadata": {},
   "source": [
    "## Load File"
   ]
  },
  {
   "cell_type": "code",
   "execution_count": 25,
   "metadata": {},
   "outputs": [],
   "source": [
    "# file source http://www.zmtiantang.com/sub/444958.html\n",
    "file_substring = \"半沢直樹＃0\"\n",
    "episode = 1\n",
    "f = open(f\"./hanzawa/{file_substring}{episode}.srt\", encoding='UTF-8-sig')\n",
    "subtitle_original = f.read()"
   ]
  },
  {
   "cell_type": "markdown",
   "metadata": {},
   "source": [
    "## Split Subtitles\n",
    "\n",
    "Split the subtitles into section"
   ]
  },
  {
   "cell_type": "code",
   "execution_count": 39,
   "metadata": {},
   "outputs": [
    {
     "name": "stdout",
     "output_type": "stream",
     "text": [
      "1\n",
      "00:00:35,034 --> 00:00:40,005\n",
      "(半沢)この産業中央銀行で\n",
      "働くことは 私の夢でした\n",
      "\n",
      "2\n",
      "00:00:40,005 --> 00:00:43,642\n",
      "≪(面接官)いや しかし銀行は\n",
      "うちだけじゃないでしょう\n",
      "\n",
      "3\n",
      "00:00:43,642 --> 00:00:45,644\n",
      "いいえ\n"
     ]
    }
   ],
   "source": [
    "subtitles_text =  subtitle_original.split('\\n\\n')\n",
    "\n",
    "print(f\"{subtitles_text[0]}\\n\\n{subtitles_text[1]}\\n\\n{subtitles_text[2]}\")"
   ]
  },
  {
   "cell_type": "markdown",
   "metadata": {},
   "source": [
    "## Function and Class\n",
    "\n",
    "The `time2sec` function transforms a string format timestamp into milliseconds.\n",
    "\n",
    "The `Subtitle` class stores all the method and information for a subtitle section."
   ]
  },
  {
   "cell_type": "code",
   "execution_count": 40,
   "metadata": {},
   "outputs": [],
   "source": [
    "def time2sec(s, fromSrt = True, delay = 0):\n",
    "    hour = 0\n",
    "    minute = 0\n",
    "    second = 0\n",
    "    millis = 0\n",
    "    if fromSrt:\n",
    "        #'00:01:28,337'\n",
    "        s = s.split(',')\n",
    "        hms = s[0].split(':')\n",
    "\n",
    "        hour = int(hms[0])\n",
    "        minute = int(hms[1])\n",
    "        second = int(hms[2])\n",
    "        millis = int(s[1])\n",
    "\n",
    "    else:\n",
    "        s = s.split(':')\n",
    "        if len(s) == 2:\n",
    "            #'12:20'\n",
    "            minute = int(s[0])\n",
    "            second = int(s[1])\n",
    "        elif len(s) ==3:\n",
    "            #'1:24:02'\n",
    "            hour = int(s[0])\n",
    "            minute = int(s[1])\n",
    "            second = int(s[2])\n",
    "        \n",
    "        \n",
    "    return (60 * 60 * hour + 60 * minute + second) * 1000 + millis + delay\n",
    "\n",
    "\n",
    "class Subtitle:    \n",
    "    def __init__(self, s=''):\n",
    "        if (s == ''):\n",
    "            self.id = 0\n",
    "            self.start = 0\n",
    "            self.end = 0\n",
    "            self.text = ''\n",
    "        else:\n",
    "            s_list = s.split('\\n')\n",
    "            self.id = int(s_list[0])\n",
    "\n",
    "            time_list = s_list[1].split(' --> ')\n",
    "            self.start = time2sec(time_list[0])\n",
    "            self.end = time2sec(time_list[1])\n",
    "\n",
    "            self.text = ''.join(s_list[2:])\n",
    "            \n",
    "    def __str__(self):\n",
    "        \"\"\" For print() function \"\"\"\n",
    "        return f\"Line : {self.id} \\t{self.start} ~ {self.end}\\n{self.text} \\n\\n\""
   ]
  },
  {
   "cell_type": "markdown",
   "metadata": {},
   "source": [
    "## Create Instance\n",
    "\n",
    "For each string-formatted subtitle extracted from the srt file, we transform it into subtitle class for better readability. In order to match the indecies with the original id in the srt file, we add a dummy subtitle instance to the head."
   ]
  },
  {
   "cell_type": "code",
   "execution_count": 29,
   "metadata": {},
   "outputs": [],
   "source": [
    "subtitles = [Subtitle(st) for st in subtitles_text]\n",
    "subtitles.insert(0, Subtitle())"
   ]
  },
  {
   "cell_type": "code",
   "execution_count": 30,
   "metadata": {},
   "outputs": [
    {
     "name": "stdout",
     "output_type": "stream",
     "text": [
      "Line : 17 \t91307 ~ 95494\n",
      "そのとき私達を救ってくださったのは \n",
      "\n",
      " Line : 18 \t95494 ~ 99331\n",
      "それまで つきあい程度しか取り引きをしていなかった \n",
      "\n",
      " Line : 19 \t99331 ~ 102331\n",
      "こちらの産業中央銀行です \n",
      "\n",
      "\n"
     ]
    }
   ],
   "source": [
    "## test\n",
    "print(subtitles[17], subtitles[18], subtitles[19])"
   ]
  },
  {
   "cell_type": "markdown",
   "metadata": {},
   "source": [
    "## Search Function\n",
    "\n",
    "A linear search to get the index of the subtitle that matches the given timestamp."
   ]
  },
  {
   "cell_type": "code",
   "execution_count": 31,
   "metadata": {},
   "outputs": [],
   "source": [
    "def search_timestamp(t):\n",
    "    for i in range(0,len(subtitles)):\n",
    "        s = subtitles[i]\n",
    "        if (t >= s.start and t <= s.end):\n",
    "            return '\\n'.join([ subtitles[i-1].text, subtitles[i].text, subtitles[i+1].text])\n",
    "    return \"not found\""
   ]
  },
  {
   "cell_type": "markdown",
   "metadata": {},
   "source": [
    "## Delay\n",
    "\n",
    "To callibrate for the displacement of timestamp between the source video and the downloaded subtitle file, we calculate how much it is delayed by entering the timestamp where the first subtitle appears."
   ]
  },
  {
   "cell_type": "code",
   "execution_count": 32,
   "metadata": {},
   "outputs": [
    {
     "name": "stdout",
     "output_type": "stream",
     "text": [
      "First subtitle started = 0:3\n"
     ]
    }
   ],
   "source": [
    "delay = subtitles[1].start - time2sec(input(\"First subtitle started = \"), fromSrt = False)"
   ]
  },
  {
   "cell_type": "code",
   "execution_count": 33,
   "metadata": {},
   "outputs": [
    {
     "name": "stdout",
     "output_type": "stream",
     "text": [
      "Timestamp = 23:41\n"
     ]
    },
    {
     "data": {
      "text/plain": [
       "1453034"
      ]
     },
     "execution_count": 33,
     "metadata": {},
     "output_type": "execute_result"
    }
   ],
   "source": [
    "# input timestamp\n",
    "timestamp = input(\"Timestamp = \")\n",
    "timestamp = time2sec(timestamp, fromSrt = False, delay = delay)\n",
    "timestamp"
   ]
  },
  {
   "cell_type": "code",
   "execution_count": 34,
   "metadata": {},
   "outputs": [
    {
     "name": "stdout",
     "output_type": "stream",
     "text": [
      "(川原)半沢さん\n",
      "これは うちの支店にとどまらず\n",
      "関西支部全体に関わる戦略案件になるはずです\n"
     ]
    }
   ],
   "source": [
    "print(search_timestamp(timestamp))"
   ]
  }
 ],
 "metadata": {
  "kernelspec": {
   "display_name": "Python 3",
   "language": "python",
   "name": "python3"
  },
  "language_info": {
   "codemirror_mode": {
    "name": "ipython",
    "version": 3
   },
   "file_extension": ".py",
   "mimetype": "text/x-python",
   "name": "python",
   "nbconvert_exporter": "python",
   "pygments_lexer": "ipython3",
   "version": "3.8.3"
  }
 },
 "nbformat": 4,
 "nbformat_minor": 4
}
